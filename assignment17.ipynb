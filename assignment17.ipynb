{
 "cells": [
  {
   "cell_type": "markdown",
   "metadata": {},
   "source": [
    "Q1. Greedy vs. non-greedy: Greedy syntax tries to match as much as possible, while non-greedy matches the minimum required. To transform from greedy to non-greedy, add a '?' after the quantifier.\n",
    "\n",
    "Q2. Greedy vs. non-greedy impact: It makes a difference when matching multiple occurrences. If the only option is greedy, use it; otherwise, refine the pattern.\n",
    "\n",
    "Q3. Non-tagged group difference: No practical difference if no replacement is involved.\n",
    "\n",
    "Q4. Impact of non-tagged category: Significant in scenarios where you need to refer to specific groups for extraction or further processing.\n",
    "\n",
    "Q5. Look-ahead condition advantage: Useful when you need to assert the presence or absence of specific patterns without including them in the match.\n",
    "\n",
    "Q6. Positive vs. negative look-ahead: Positive asserts presence (matches if condition is true), negative asserts absence (matches if condition is false).\n",
    "\n",
    "Q7. Benefit of named groups: Improved readability and more self-explanatory code.\n",
    "\n",
    "Q8. Identifying repeated items with named groups: Yes, you can use named groups with backreferences.\n",
    "\n",
    "Q9. Scanner vs. re.findall: Scanner allows more control over how the target string is processed and returns matched tokens with extra information.\n",
    "\n",
    "Q10. Scanner object naming: No, you can choose any valid variable name."
   ]
  },
  {
   "cell_type": "markdown",
   "metadata": {},
   "source": []
  },
  {
   "cell_type": "markdown",
   "metadata": {},
   "source": []
  },
  {
   "cell_type": "markdown",
   "metadata": {},
   "source": []
  },
  {
   "cell_type": "markdown",
   "metadata": {},
   "source": []
  },
  {
   "cell_type": "markdown",
   "metadata": {},
   "source": []
  }
 ],
 "metadata": {
  "language_info": {
   "name": "python"
  },
  "orig_nbformat": 4
 },
 "nbformat": 4,
 "nbformat_minor": 2
}
