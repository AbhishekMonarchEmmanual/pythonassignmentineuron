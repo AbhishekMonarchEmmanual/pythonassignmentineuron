{
 "cells": [
  {
   "cell_type": "markdown",
   "metadata": {},
   "source": [
    "Q1. Can you create a program or function that employs both positive and negative indexing? Is there any repercussion if you do so?\n",
    "\n",
    "you can use both positive and negative indexing in a Python list without any issues. Just be cautious to use them correctly to avoid unexpected results.\n",
    "\n",
    "Q2. What is the most effective way of starting with 1,000 elements in a Python list? Assume that all elements should be set to the same value.\n",
    "\n",
    "You can use list comprehension or the multiplication operator. For example, [0] * 1000 or [value for _ in range(1000)].\n",
    "\n",
    "Q3. How do you slice a list to get any other part while missing the rest? (For example, suppose you want to make a new list with the elements first, third, fifth, seventh, and so on.)\n",
    "\n",
    "You can achieve this using slicing with a step of 2. The slice notation is start:stop:step, where start is the starting index, stop is the ending index (exclusive), and step is the number of elements to skip."
   ]
  },
  {
   "cell_type": "code",
   "execution_count": 1,
   "metadata": {},
   "outputs": [
    {
     "name": "stdout",
     "output_type": "stream",
     "text": [
      "Positive Index: 0, Value: 10\n",
      "Positive Index: 1, Value: 20\n",
      "Positive Index: 2, Value: 30\n",
      "Positive Index: 3, Value: 40\n",
      "Positive Index: 4, Value: 50\n",
      "Negative Index: -1, Value: 50\n",
      "Negative Index: -2, Value: 40\n",
      "Negative Index: -3, Value: 30\n",
      "Negative Index: -4, Value: 20\n",
      "Negative Index: -5, Value: 10\n"
     ]
    }
   ],
   "source": [
    "def index_demo(my_list):\n",
    "    # Access elements using positive indexing\n",
    "    for i in range(len(my_list)):\n",
    "        print(f\"Positive Index: {i}, Value: {my_list[i]}\")\n",
    "\n",
    "    # Access elements using negative indexing\n",
    "    for i in range(-1, -len(my_list) - 1, -1):\n",
    "        print(f\"Negative Index: {i}, Value: {my_list[i]}\")\n",
    "\n",
    "# Example usage\n",
    "my_list = [10, 20, 30, 40, 50]\n",
    "index_demo(my_list)"
   ]
  }
 ],
 "metadata": {
  "kernelspec": {
   "display_name": "Python 3",
   "language": "python",
   "name": "python3"
  },
  "language_info": {
   "codemirror_mode": {
    "name": "ipython",
    "version": 3
   },
   "file_extension": ".py",
   "mimetype": "text/x-python",
   "name": "python",
   "nbconvert_exporter": "python",
   "pygments_lexer": "ipython3",
   "version": "3.10.5"
  },
  "orig_nbformat": 4
 },
 "nbformat": 4,
 "nbformat_minor": 2
}
