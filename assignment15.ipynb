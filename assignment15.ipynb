{
 "cells": [
  {
   "cell_type": "markdown",
   "metadata": {},
   "source": [
    "What are the new features added in Python 3.8 version?\n",
    "Python 3.8 introduced several new features and improvements, some of which include:\n",
    "\n",
    "The \"walrus\" operator (:=) for assignment expressions.\n",
    "Positional-only parameters in function definitions using '/'.\n",
    "The \"f-strings\" now support \"=\" to format variables using the repr method.\n",
    "The \"math.prod()\" function to compute the product of a list of numbers.\n",
    "The \"math.isqrt()\" function to compute the integer square root.\n",
    "The \"typing.final\" decorator to indicate a class as \"effectively final.\"\n",
    "The \"functools.cached_property\" decorator to create cached properties.\n",
    "The \"ast.unparse()\" function to reconstruct source code from AST nodes.\n",
    "Improved \"importlib.metadata\" to access package metadata without importing.\n",
    "What is monkey patching in Python?\n",
    "Monkey patching in Python refers to the practice of dynamically modifying or extending the behavior of modules, classes, or functions at runtime. It involves replacing or adding new methods or attributes to existing objects or classes. While it can be useful in certain situations, it is generally considered a controversial practice, as it can lead to unexpected behavior and maintenance issues.\n",
    "\n",
    "What is the difference between a shallow copy and deep copy?\n",
    "A shallow copy creates a new object but does not create new objects for the elements inside the original object. Instead, it copies references to the elements, so changes made to the elements in the copy affect the original object and vice versa. On the other hand, a deep copy creates a new object and recursively copies all the objects inside the original object, creating new instances for each element. This ensures that changes in the deep copy do not affect the original object and vice versa.\n",
    "\n",
    "What is the maximum possible length of an identifier?\n",
    "In Python, the maximum possible length of an identifier is not explicitly defined. However, it is generally recommended to keep identifiers reasonably short and meaningful for readability and maintainability.\n",
    "\n",
    "What is generator comprehension?\n",
    "Generator comprehension, also known as a generator expression, is a concise way to create a generator object in Python. It uses a similar syntax to list comprehension but is enclosed in parentheses instead of square brackets. Generator comprehensions allow you to generate values on-the-fly without creating a list in memory, making them memory-efficient for large datasets or infinite sequences.\n",
    "\n",
    "Example of generator comprehension:\n",
    "\n",
    "python\n",
    "Copy code\n",
    "# Generator comprehension to generate squares of numbers from 1 to 5\n",
    "squares_gen = (x**2 for x in range(1, 6))\n",
    "\n",
    "# Accessing values from the generator\n",
    "for square in squares_gen:\n",
    "    print(square)"
   ]
  }
 ],
 "metadata": {
  "language_info": {
   "name": "python"
  },
  "orig_nbformat": 4
 },
 "nbformat": 4,
 "nbformat_minor": 2
}
