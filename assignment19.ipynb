{
 "cells": [
  {
   "cell_type": "markdown",
   "metadata": {},
   "source": [
    "Q1. Define the relationship between a class and its instances. Is it a one-to-one or a one-to-many\n",
    "partnership, for example?\n",
    "\n",
    "Q2. What kind of data is held only in an instance?\n",
    "\n",
    "Q3. What kind of knowledge is stored in a class?\n",
    "\n",
    "Q4. What exactly is a method, and how is it different from a regular function?\n",
    "\n",
    "Q5. Is inheritance supported in Python, and if so, what is the syntax?\n",
    "\n",
    "Q6. How much encapsulation (making instance or class variables private) does Python support?\n",
    "\n",
    "Q7. How do you distinguish between a class variable and an instance variable?\n",
    "\n",
    "Q8. When, if ever, can self be included in a class&#39;s method definitions?\n",
    "\n",
    "Q9. What is the difference between the _ _add_ _ and the _ _radd_ _ methods?\n",
    "\n",
    "Q10. When is it necessary to use a reflection method? When do you not need it, even though you\n",
    "support the operation in question?\n",
    "\n",
    "Q11. What is the _ _iadd_ _ method called?\n",
    "\n",
    "Q12. Is the _ _init_ _ method inherited by subclasses? What do you do if you need to customize its\n",
    "behavior within a subclass?"
   ]
  },
  {
   "cell_type": "markdown",
   "metadata": {},
   "source": [
    "Q1. Relationship between a class and its instances: It is a one-to-many partnership. A class is a blueprint or template defining the structure and behavior of objects, while instances are individual objects created from that class, each with its own unique data and state.\n",
    "\n",
    "Q2. Data held only in an instance: Instance variables hold data unique to each instance. They are defined within the class but initialized for each object when created.\n",
    "\n",
    "Q3. Knowledge stored in a class: Class variables store data shared among all instances of the class. They are defined within the class but outside of any method.\n",
    "\n",
    "Q4. Method vs. regular function: A method is a function defined inside a class and operates on the instance of the class. It takes the instance (self) as the first argument, whereas a regular function is not tied to any class and operates independently.\n",
    "\n",
    "Q5. Inheritance in Python: Yes, inheritance is supported in Python. The syntax to define a subclass that inherits from a superclass is: class SubClassName(SuperClassName):.\n",
    "\n",
    "Q6. Encapsulation support in Python: Python supports limited encapsulation through naming conventions, like using a single leading underscore (_) for \"protected\" variables and a double leading underscore (__) for \"private\" variables. However, it doesn't enforce true data hiding like some other languages.\n",
    "\n",
    "Q7. Distinguishing class variable and instance variable: Class variables are shared among all instances of the class and are defined outside of any method. Instance variables are unique to each instance and are defined within methods or the constructor (__init__).\n",
    "\n",
    "Q8. Inclusion of self in a method definition: self must be included as the first parameter in a class's method definition to refer to the instance on which the method is called. It is not required for regular functions.\n",
    "\n",
    "Q9. Difference between __add__ and __radd__ methods: __add__ is used for the addition operation when the left operand is an instance of the class, while __radd__ is used when the left operand is not an instance of the class, allowing for reversed addition.\n",
    "\n",
    "Q10. Necessity of a reflection method: Reflection methods like __getattr__ allow customization of attribute access. They are used when you want to intercept attribute access and customize the behavior dynamically.\n",
    "\n",
    "Q11. _ _iadd_ _ method: It is called for in-place addition (+=) operation. It allows customizing the behavior of in-place addition for instances of the class.\n",
    "\n",
    "Q12. Inheritance of __init__ method: Yes, __init__ method is inherited by subclasses. To customize its behavior within a subclass, you can override it by defining a new __init__ method in the subclass. To reuse the parent class's __init__, call super().__init__(...) in the subclass's __init__ method.\n",
    "\n",
    "\n",
    "\n",
    "\n"
   ]
  },
  {
   "cell_type": "markdown",
   "metadata": {},
   "source": []
  }
 ],
 "metadata": {
  "language_info": {
   "name": "python"
  },
  "orig_nbformat": 4
 },
 "nbformat": 4,
 "nbformat_minor": 2
}
