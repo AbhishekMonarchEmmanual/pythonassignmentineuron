{
 "cells": [
  {
   "cell_type": "markdown",
   "metadata": {},
   "source": [
    "Q1. What is the meaning of multiple inheritance?\n",
    "\n",
    "Q2. What is the concept of delegation?\n",
    "\n",
    "Q3. What is the concept of composition?\n",
    "\n",
    "Q4. What are bound methods and how do we use them?\n",
    "\n",
    "Q5. What is the purpose of pseudoprivate attributes?"
   ]
  },
  {
   "cell_type": "markdown",
   "metadata": {},
   "source": [
    "\n",
    "Q1. What is the meaning of multiple inheritance?\n",
    "\n",
    "Answer:\n",
    "Multiple inheritance is a feature in object-oriented programming where a class can inherit attributes and methods from more than one parent class. In other words, a class can be derived from multiple base classes. This allows a derived class to have the combined functionality of all its parent classes. Multiple inheritance can lead to complex class hierarchies, as a class can inherit from multiple classes at different levels of the hierarchy.\n",
    "\n",
    "For example:\n",
    "\n",
    "python\n",
    "Copy code\n",
    "class Parent1:\n",
    "    def method1(self):\n",
    "        print(\"Method from Parent1\")\n",
    "\n",
    "class Parent2:\n",
    "    def method2(self):\n",
    "        print(\"Method from Parent2\")\n",
    "\n",
    "class Child(Parent1, Parent2):\n",
    "    pass\n",
    "\n",
    "obj = Child()\n",
    "obj.method1()  # Output: \"Method from Parent1\"\n",
    "obj.method2() "
   ]
  },
  {
   "cell_type": "markdown",
   "metadata": {},
   "source": [
    "Q2. What is the concept of delegation?\n",
    "\n",
    "Answer:\n",
    "Delegation is a design pattern in object-oriented programming where an object forwards certain operations or method calls to another object. Instead of implementing the functionality directly, the delegating object delegates the responsibility of handling the operation to a delegate object. This allows for code reuse and separates concerns, making the design more flexible and maintainable.\n",
    "\n",
    "Delegation is often used to implement composition, where an object is composed of one or more other objects to achieve the desired behavior. The delegating object acts as a mediator, passing the necessary method calls to the delegate object.\n",
    "\n",
    "Example of delegation using composition:\n",
    "\n",
    "python\n",
    "Copy code\n",
    "class Engine:\n",
    "    def start(self):\n",
    "        print(\"Engine started.\")\n",
    "\n",
    "class Car:\n",
    "    def __init__(self):\n",
    "        self.engine = Engine()\n",
    "\n",
    "    def start(self):\n",
    "        self.engine.start()\n",
    "\n",
    "my_car = Car()\n",
    "my_car.start()  # Output: \"Engine started.\"\n",
    "In this example, the Car class delegates the start operation to its Engine instance."
   ]
  },
  {
   "cell_type": "markdown",
   "metadata": {},
   "source": [
    "Q3. What is the concept of composition?\n",
    "\n",
    "Answer:\n",
    "Composition is a design principle in object-oriented programming where a class is composed of one or more objects of other classes rather than inheriting from those classes. It is a \"has-a\" relationship, where one class contains objects of another class as part of its structure. This allows for code reuse, modularity, and flexible designs, as the composed objects can be easily replaced with other compatible objects.\n",
    "\n",
    "Composition is often preferred over multiple inheritance, as it avoids some of the complexities and issues associated with multiple inheritance, such as the diamond problem.\n",
    "\n",
    "Example of composition:\n",
    "\n",
    "python\n",
    "Copy code\n",
    "class Engine:\n",
    "    def start(self):\n",
    "        print(\"Engine started.\")\n",
    "\n",
    "class Car:\n",
    "    def __init__(self):\n",
    "        self.engine = Engine()\n",
    "\n",
    "    def start(self):\n",
    "        self.engine.start()\n",
    "\n",
    "my_car = Car()\n",
    "my_car.start()  # Output: \"Engine started.\"\n",
    "In this example, the Car class is composed of an Engine object. The Car class delegates the start operation to the Engine instance, achieving the desired behavior."
   ]
  },
  {
   "cell_type": "markdown",
   "metadata": {},
   "source": [
    "Q4. What are bound methods and how do we use them?\n",
    "\n",
    "Answer:\n",
    "Bound methods are methods that are associated with an instance of a class. When you access a method on an instance of a class, it automatically becomes a bound method, and the instance is implicitly passed as the first argument (self) to the method. This allows the method to access and operate on the instance's attributes and behavior.\n",
    "\n",
    "Bound methods are commonly used in object-oriented programming to work with instance-specific data and to modify the state of the instance.\n",
    "\n",
    "Example of using bound methods:\n",
    "\n",
    "python\n",
    "Copy code\n",
    "class MyClass:\n",
    "    def __init__(self, value):\n",
    "        self.value = value\n",
    "\n",
    "    def display(self):\n",
    "        print(\"Value:\", self.value)\n",
    "\n",
    "obj = MyClass(42)\n",
    "obj.display()  # Output: \"Value: 42\"\n",
    "In this example, display is a bound method of the MyClass instance obj. When obj.display() is called, obj is implicitly passed as the first argument to the display method."
   ]
  },
  {
   "cell_type": "markdown",
   "metadata": {},
   "source": [
    "Q5. What is the purpose of pseudoprivate attributes?\n",
    "\n",
    "Answer:\n",
    "In Python, pseudoprivate attributes are attributes with names that start with double underscores (__). These attributes are also known as name mangling attributes. The purpose of pseudoprivate attributes is to introduce name mangling, which makes it difficult for subclasses to accidentally overwrite attributes from parent classes.\n",
    "\n",
    "When a class defines an attribute with a name starting with __, Python automatically changes the name to include the class name as a prefix. This renaming helps prevent naming conflicts when multiple classes are involved in inheritance.\n",
    "\n",
    "Example of pseudoprivate attributes:\n",
    "\n",
    "python\n",
    "Copy code\n",
    "class MyClass:\n",
    "    def __init__(self):\n",
    "        self.__secret = 42\n",
    "\n",
    "    def get_secret(self):\n",
    "        return self.__secret\n",
    "\n",
    "obj = MyClass()\n",
    "print(obj.get_secret())  # Output: 42\n",
    "print(obj.__secret)      # Raises AttributeError: 'MyClass' object has no attribute '__secret'\n",
    "In this example, the attribute __secret is pseudoprivate. It is accessible within the class through methods like get_secret(), but trying to access it directly outside the class raises an AttributeError. The actual name of the attribute is mangled to _MyClass__secret, making it less likely to clash with attributes of subclasses or parent classes. However, it's important to note that this is not a strict form of data hiding, as the attribute can still be accessed with the mangled name if needed. The use of pseudoprivate attributes is primarily a convention to indicate that the attribute is intended for internal use within the class."
   ]
  },
  {
   "cell_type": "markdown",
   "metadata": {},
   "source": []
  },
  {
   "cell_type": "markdown",
   "metadata": {},
   "source": []
  },
  {
   "cell_type": "markdown",
   "metadata": {},
   "source": []
  },
  {
   "cell_type": "markdown",
   "metadata": {},
   "source": []
  },
  {
   "cell_type": "markdown",
   "metadata": {},
   "source": []
  },
  {
   "cell_type": "markdown",
   "metadata": {},
   "source": []
  },
  {
   "cell_type": "markdown",
   "metadata": {},
   "source": []
  }
 ],
 "metadata": {
  "language_info": {
   "name": "python"
  },
  "orig_nbformat": 4
 },
 "nbformat": 4,
 "nbformat_minor": 2
}
