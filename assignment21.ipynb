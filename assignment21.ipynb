{
 "cells": [
  {
   "cell_type": "markdown",
   "metadata": {},
   "source": [
    "Q1. What is a probability distribution, exactly? If the values are meant to be random, how can you\n",
    "predict them at all?\n",
    "\n",
    "Q2. Is there a distinction between true random numbers and pseudo-random numbers, if there is\n",
    "one? Why are the latter considered “good enough”?\n",
    "\n",
    "Q3. What are the two main factors that influence the behaviour of a &quot;normal&quot; probability distribution?\n",
    "\n",
    "Q4. Provide a real-life example of a normal distribution.\n",
    "\n",
    "Q5. In the short term, how can you expect a probability distribution to behave? What do you think will\n",
    "happen as the number of trials grows?\n",
    "\n",
    "Q6. What kind of object can be shuffled by using random.shuffle?\n",
    "\n",
    "Q7. Describe the math package&#39;s general categories of functions.\n",
    "\n",
    "Q8. What is the relationship between exponentiation and logarithms?\n",
    "\n",
    "Q9. What are the three logarithmic functions that Python supports?"
   ]
  },
  {
   "cell_type": "markdown",
   "metadata": {},
   "source": [
    "Q1. A probability distribution is a function or a mathematical model that describes the likelihood of different outcomes or events occurring in a specific scenario. While the values in a probability distribution may represent random events, the distribution itself follows specific patterns or rules based on probabilities and statistics. It allows us to predict the likelihood of various outcomes, even though individual values may be uncertain or random.\n",
    "\n",
    "Q2. Yes, there is a distinction between true random numbers and pseudo-random numbers. True random numbers are generated from genuinely unpredictable physical processes, such as radioactive decay or atmospheric noise. Pseudo-random numbers, on the other hand, are generated using deterministic algorithms and initial values known as seeds. Although pseudo-random numbers are not truly random, they appear random for most practical purposes and are considered \"good enough\" for many applications, such as simulations and gaming.\n",
    "\n",
    "Q3. The two main factors that influence the behavior of a \"normal\" probability distribution are its mean (average) and standard deviation. The mean represents the central tendency or average value of the distribution, while the standard deviation measures the spread or dispersion of the values around the mean.\n",
    "\n",
    "Q4. A real-life example of a normal distribution is the distribution of human heights. In a large population, the majority of people tend to have heights close to the average (mean), with fewer individuals being significantly taller or shorter. The distribution forms a bell-shaped curve, with the mean height at the center.\n",
    "\n",
    "Q5. In the short term, a probability distribution may exhibit random fluctuations and may not precisely follow the expected probabilities due to the small sample size. However, as the number of trials or observations increases, the distribution will tend to stabilize and converge towards the expected probabilities, aligning more closely with the theoretical probability distribution.\n",
    "\n",
    "Q6. The random.shuffle function in Python can shuffle a list. It randomly reorders the elements within the list, creating a new random permutation.\n",
    "\n",
    "Q7. The math package in Python consists of general categories of functions, including mathematical constants (e.g., pi, e), mathematical operations (e.g., exponentiation, logarithms), trigonometric functions (e.g., sin, cos, tan), hyperbolic functions, special functions (e.g., factorial, gamma), and statistical functions (e.g., mean, variance).\n",
    "\n",
    "Q8. Exponentiation and logarithms are inverse operations of each other. If x is raised to the power of y (x^y), then the logarithm of x with base y (log_y(x)) is y. In other words, if x^y = z, then log_y(z) = y.\n",
    "\n",
    "Q9. Python supports three logarithmic functions:\n",
    "\n",
    "math.log(x): Returns the natural logarithm (base e) of x.\n",
    "math.log10(x): Returns the base-10 logarithm of x.\n",
    "math.log(x, base): Returns the logarithm of x with the specified base.\n",
    "\n",
    "\n",
    "\n"
   ]
  }
 ],
 "metadata": {
  "language_info": {
   "name": "python"
  },
  "orig_nbformat": 4
 },
 "nbformat": 4,
 "nbformat_minor": 2
}
