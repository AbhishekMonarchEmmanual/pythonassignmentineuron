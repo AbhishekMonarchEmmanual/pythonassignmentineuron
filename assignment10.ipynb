{
 "cells": [
  {
   "cell_type": "code",
   "execution_count": null,
   "metadata": {},
   "outputs": [],
   "source": [
    "Q1. What is the difference between __getattr__ and __getattribute__?\n",
    "\n",
    "A1. __getattr__: It's a backup plan for when an attribute is not found normally. It's called only when an attribute is missing.\n",
    "\n",
    "__getattribute__: This one is called every time an attribute is accessed, no matter if it exists or not. It takes precedence over everything else.\n",
    "\n",
    "Q2. What is the difference between properties and descriptors?\n",
    "\n",
    "A2. Properties: They are a simple way to add special getter, setter, and deleter methods to an attribute. Just add @property to a method, and it becomes like an attribute with magic methods for getting, setting, or deleting its value.\n",
    "\n",
    "Descriptors: They are more powerful and give you full control over attribute access. You define __get__, __set__, and __delete__ methods and attach the descriptor to a class attribute. It's like being the gatekeeper for that attribute!\n",
    "\n",
    "Q3. What are the key differences in functionality between __getattr__ and __getattribute__, as well as properties and descriptors?\n",
    "\n",
    "A3. Here's the deal:\n",
    "\n",
    "__getattr__: It's used as a backup for missing attributes. Called when the attribute doesn't exist normally.\n",
    "\n",
    "__getattribute__: This one is called every time an attribute is accessed, whether it exists or not. It's like the main gatekeeper!\n",
    "\n",
    "Properties: They're easy and limited. Add magic methods to an attribute, but they are specific to that attribute's name.\n",
    "\n",
    "Descriptors: They're powerful! Control all access to an attribute. Validation, calculation, you name it!\n",
    "\n",
    "Use each of these depending on what you need, and you're good to go! No worries!\n",
    "\n",
    "\n",
    "\n",
    "\n"
   ]
  }
 ],
 "metadata": {
  "language_info": {
   "name": "python"
  },
  "orig_nbformat": 4
 },
 "nbformat": 4,
 "nbformat_minor": 2
}
