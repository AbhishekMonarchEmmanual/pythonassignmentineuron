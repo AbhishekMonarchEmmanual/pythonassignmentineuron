{
 "cells": [
  {
   "cell_type": "markdown",
   "metadata": {},
   "source": [
    "Q1. What are the two latest user-defined exception constraints in Python 3.X?\n",
    "\n",
    "A1.  there are no specific \"latest\" user-defined exception constraints. You can define custom exceptions by creating a new class that inherits from the built-in Exception class or its subclasses. This allows you to create descriptive and specialized exceptions for your specific use cases.\n",
    "\n",
    "Q2. How are class-based exceptions that have been raised matched to handlers?\n",
    "\n",
    "A2. When an exception is raised, Python matches it to exception handlers based on the exception hierarchy. It looks for the most specific exception handler first. If not found, it proceeds to a more general handler that can handle the raised exception. If no matching handler is found, the program terminates with an unhandled exception error.\n",
    "\n",
    "Q3. Describe two methods for attaching context information to exception artifacts.\n",
    "\n",
    "A3.\n",
    "\n",
    "Method 1: Exception Arguments - When raising an exception, you can pass additional context information as arguments to the exception class. For example: raise MyCustomError(\"Error occurred.\", {\"data\": 42}).\n",
    "\n",
    "Method 2: Exception Context Managers - You can use context managers to attach context information to exceptions raised within a specific block of code. By defining a custom context manager, you can capture and store context information related to the exception.\n",
    "\n",
    "Q4. Describe two methods for specifying the text of an exception object's error message.\n",
    "\n",
    "A4.\n",
    "\n",
    "Method 1: Using the raise statement - When raising an exception, you can provide the error message as an argument to the exception class. For example: raise MyCustomError(\"This is the error message.\").\n",
    "\n",
    "Method 2: Custom Exception Classes - When defining custom exception classes, you can override the __init__ method to accept an error message as an argument and use it to set the error message attribute of the exception instance.\n",
    "\n",
    "Q5. Why do you no longer use string-based exceptions?\n",
    "\n",
    "A5. String-based exceptions are no longer used in modern Python code because they lack important features available with class-based exceptions. Class-based exceptions support hierarchy, context information, and better exception handling control, making them more suitable for organizing and handling different types of exceptions. Using class-based exceptions with custom exception classes improves code clarity, maintainability, and error handling control in Python programs."
   ]
  },
  {
   "cell_type": "markdown",
   "metadata": {},
   "source": []
  },
  {
   "cell_type": "markdown",
   "metadata": {},
   "source": []
  },
  {
   "cell_type": "markdown",
   "metadata": {},
   "source": []
  },
  {
   "cell_type": "markdown",
   "metadata": {},
   "source": []
  },
  {
   "cell_type": "markdown",
   "metadata": {},
   "source": []
  },
  {
   "cell_type": "markdown",
   "metadata": {},
   "source": []
  },
  {
   "cell_type": "markdown",
   "metadata": {},
   "source": []
  },
  {
   "cell_type": "markdown",
   "metadata": {},
   "source": []
  },
  {
   "cell_type": "markdown",
   "metadata": {},
   "source": []
  }
 ],
 "metadata": {
  "language_info": {
   "name": "python"
  },
  "orig_nbformat": 4
 },
 "nbformat": 4,
 "nbformat_minor": 2
}
